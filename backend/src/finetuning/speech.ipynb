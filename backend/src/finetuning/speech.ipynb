{
 "cells": [
  {
   "cell_type": "code",
   "execution_count": 1,
   "metadata": {},
   "outputs": [],
   "source": [
    "import os\n",
    "import sys\n",
    "from pathlib import Path\n",
    "\n",
    "src_path = Path(os.getcwd()).parent.parent.joinpath('src').absolute()\n",
    "sys.path.append(str(src_path))"
   ]
  },
  {
   "cell_type": "code",
   "execution_count": null,
   "metadata": {},
   "outputs": [],
   "source": [
    "from huggingsound import TrainingArguments, ModelArguments, SpeechRecognitionModel, TokenSet\n",
    "from typing import NamedTuple, TypedDict\n",
    "import numpy as np\n",
    "from persistence.model import FileMetadata\n",
    "from pathlib import Path\n",
    "from persistence.db import Database\n",
    "from persistence.file_metadata_repository import FileMetadataRepository\n",
    "from features.transcriber import Transcriber"
   ]
  },
  {
   "cell_type": "code",
   "execution_count": 3,
   "metadata": {},
   "outputs": [],
   "source": [
    "OUTPUT_DIR = src_path.joinpath('finetuning').joinpath('models')\n",
    "PREPROCESSED_DATA_DIR = src_path.joinpath('finetuning').joinpath('data')"
   ]
  },
  {
   "cell_type": "code",
   "execution_count": null,
   "metadata": {},
   "outputs": [],
   "source": [
    "ROOT_DIR = Path('/home/flok3n/konrad'); DB_DIR = ROOT_DIR\n",
    "db = Database(DB_DIR)\n",
    "await db.init_db()\n",
    "\n",
    "repo = FileMetadataRepository(db)\n",
    "\n",
    "files = await repo.load_all_files()"
   ]
  },
  {
   "cell_type": "code",
   "execution_count": null,
   "metadata": {},
   "outputs": [],
   "source": [
    "files_with_fixed_transcript = [f for f in files if f.is_transcript_analyzed and f.is_transcript_fixed]\n",
    "len(files_with_fixed_transcript)"
   ]
  },
  {
   "cell_type": "code",
   "execution_count": 6,
   "metadata": {},
   "outputs": [],
   "source": [
    "async def preprocess_data(files: list[FileMetadata]):\n",
    "    transcriber = Transcriber(None)\n",
    "    for f in files:\n",
    "        src_path = ROOT_DIR.joinpath(f.name)\n",
    "        target_path = PREPROCESSED_DATA_DIR.joinpath(f.name + '.wav')\n",
    "        file_bytes = await transcriber._get_preprocessed_audio_file(src_path)\n",
    "        with open(target_path, 'wb') as target:\n",
    "            file_bytes.seek(0)\n",
    "            target.write(file_bytes.getvalue())"
   ]
  },
  {
   "cell_type": "code",
   "execution_count": 7,
   "metadata": {},
   "outputs": [],
   "source": [
    "await preprocess_data(files_with_fixed_transcript)"
   ]
  },
  {
   "cell_type": "code",
   "execution_count": 8,
   "metadata": {},
   "outputs": [],
   "source": [
    "np.random.seed(1234)\n",
    "\n",
    "class TrainItem(TypedDict):\n",
    "    path: str\n",
    "    transcription: str\n",
    "\n",
    "class Dataset(NamedTuple):\n",
    "    train: list[TrainItem]\n",
    "    eval: list[TrainItem]\n",
    "\n",
    "\n",
    "def get_train_eval_dataset(files: list[FileMetadata], eval_split=0.2) -> Dataset:\n",
    "    items_with_not_empty_trancript = [f for f in files if f.transcript != '']\n",
    "    items_with_empty_trancript = [f for f in files if f.transcript == '']\n",
    "\n",
    "    assert len(items_with_empty_trancript) > 1 and len(items_with_not_empty_trancript) > 1\n",
    "\n",
    "    train, eval = [], [] \n",
    "    for src in (items_with_not_empty_trancript, items_with_empty_trancript):\n",
    "        items = [TrainItem(path=str(PREPROCESSED_DATA_DIR.joinpath(f.name + '.wav').absolute()), transcription=str(f.transcript)) for f in src]\n",
    "        num_eval_items = max(1, int(eval_split * len(items)))\n",
    "        eval_idxs = set(np.random.choice(range(len(items)), num_eval_items, replace=False))\n",
    "        for i, item in enumerate(items):\n",
    "            if i in eval_idxs:\n",
    "                eval.append(item)\n",
    "            else:\n",
    "                train.append(item)\n",
    "\n",
    "    np.random.shuffle(train)\n",
    "    np.random.shuffle(eval)\n",
    "    return Dataset(train=train, eval=eval)"
   ]
  },
  {
   "cell_type": "code",
   "execution_count": 9,
   "metadata": {},
   "outputs": [],
   "source": [
    "dataset = get_train_eval_dataset(files_with_fixed_transcript)"
   ]
  },
  {
   "cell_type": "code",
   "execution_count": null,
   "metadata": {},
   "outputs": [],
   "source": [
    "raise"
   ]
  },
  {
   "cell_type": "code",
   "execution_count": null,
   "metadata": {},
   "outputs": [],
   "source": [
    "model = SpeechRecognitionModel(str(OUTPUT_DIR), device='cuda')"
   ]
  },
  {
   "cell_type": "code",
   "execution_count": 12,
   "metadata": {},
   "outputs": [],
   "source": [
    "tb = Transcriber(None)\n",
    "engine = tb.Engine(tb, lambda: model)"
   ]
  },
  {
   "cell_type": "code",
   "execution_count": 13,
   "metadata": {},
   "outputs": [],
   "source": [
    "firany_files = []\n",
    "for f in files:\n",
    "    if 'firany' in f.name:\n",
    "        firany_files.append(f)"
   ]
  },
  {
   "cell_type": "code",
   "execution_count": null,
   "metadata": {},
   "outputs": [],
   "source": [
    "transcription_results = []\n",
    "for file in firany_files:\n",
    "    transcription = await engine.transcribe(ROOT_DIR.joinpath(file.name))\n",
    "    transcription_results.append(transcription)"
   ]
  },
  {
   "cell_type": "code",
   "execution_count": null,
   "metadata": {},
   "outputs": [],
   "source": [
    "for f, t in zip(firany_files, transcription_results):\n",
    "    print(f'before: {f.transcript}')\n",
    "    print(f'after: {t}')\n",
    "    print()"
   ]
  },
  {
   "cell_type": "code",
   "execution_count": null,
   "metadata": {},
   "outputs": [],
   "source": [
    "raise"
   ]
  },
  {
   "cell_type": "code",
   "execution_count": null,
   "metadata": {},
   "outputs": [],
   "source": [
    "model = SpeechRecognitionModel(\"jonatasgrosman/wav2vec2-large-xlsr-53-polish\", device='cuda')"
   ]
  },
  {
   "cell_type": "code",
   "execution_count": 18,
   "metadata": {},
   "outputs": [],
   "source": [
    "args = TrainingArguments(\n",
    "    overwrite_output_dir=False,\n",
    "    per_device_train_batch_size=4,\n",
    "    learning_rate=3e-4,\n",
    "    num_train_epochs=8,\n",
    "    fp16=False,\n",
    ")"
   ]
  },
  {
   "cell_type": "code",
   "execution_count": null,
   "metadata": {},
   "outputs": [],
   "source": [
    "finetuned = model.finetune(\n",
    "    str(OUTPUT_DIR),\n",
    "    train_data=[*dataset.train, *dataset.eval],\n",
    "    # eval_data=dataset.eval,\n",
    "    eval_data=None,\n",
    "    token_set=model.token_set,\n",
    "    training_args=args\n",
    ")"
   ]
  },
  {
   "cell_type": "code",
   "execution_count": null,
   "metadata": {},
   "outputs": [],
   "source": [
    "%load_ext tensorboard\n",
    "%tensorboard --logdir finetuning/models"
   ]
  }
 ],
 "metadata": {
  "kernelspec": {
   "display_name": "env",
   "language": "python",
   "name": "python3"
  },
  "language_info": {
   "codemirror_mode": {
    "name": "ipython",
    "version": 3
   },
   "file_extension": ".py",
   "mimetype": "text/x-python",
   "name": "python",
   "nbconvert_exporter": "python",
   "pygments_lexer": "ipython3",
   "version": "3.10.12"
  }
 },
 "nbformat": 4,
 "nbformat_minor": 2
}
